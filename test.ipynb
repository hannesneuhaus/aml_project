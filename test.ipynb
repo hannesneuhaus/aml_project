{
 "cells": [
  {
   "cell_type": "code",
   "execution_count": null,
   "metadata": {},
   "outputs": [],
   "source": [
    "import pandas as pd\n",
    "import numpy as np\n",
    "import tensorflow as tf\n",
    "from typing import Dict, Text\n",
    "import tensorflow_recommenders as tfrs"
   ]
  },
  {
   "cell_type": "code",
   "execution_count": null,
   "metadata": {},
   "outputs": [],
   "source": [
    "# This is the small dataset\n",
    "ds_mov = 'Data/ml-latest-small/movies.csv'\n",
    "ds_rat = 'Data/ml-latest-small/ratings.csv'\n",
    "ds_tags = 'Data/ml-latest-small/tags.csv'\n",
    "\n",
    "# This is the entire dataset, because of it's size this will take a while to load\n",
    "#ds_mov = 'Data/ml-latest/movies.csv'\n",
    "#ds_rat = 'Data/ml-latest/ratings.csv'\n",
    "#ds_tags = 'Data/ml-latest/tags.csv'\n",
    "\n",
    "df_mov = pd.read_csv(ds_mov)\n",
    "df_rat = pd.read_csv(ds_rat)\n",
    "df_tags = pd.read_csv(ds_tags)\n",
    "df_rat = pd.merge(df_rat, df_mov, on=\"movieId\", how=\"left\")\n",
    "df_mov[\"movieId\"] = df_mov[\"movieId\"].astype(str)\n",
    "df_rat[\"userId\"] = df_rat[\"userId\"].astype(str)\n",
    "df_rat[\"movieId\"] = df_rat[\"movieId\"].astype(str)\n"
   ]
  },
  {
   "cell_type": "code",
   "execution_count": null,
   "metadata": {},
   "outputs": [],
   "source": [
    "mov_feat = {key: tf.constant(value) for key, value in df_mov.to_dict(orient=\"list\").items()}\n",
    "movies = tf.data.Dataset.from_tensor_slices(mov_feat)\n",
    "\n",
    "rat_feat = {key: tf.constant(value) for key, value in df_rat.to_dict(orient=\"list\").items()}\n",
    "ratings = tf.data.Dataset.from_tensor_slices(rat_feat)\n",
    "\n",
    "movies = movies.map(lambda x: x['title'])\n",
    "ratings = ratings.map(lambda x: {\"userId\": x[\"userId\"], \"title\": x[\"title\"], 'rating': x['rating']})\n",
    "\n",
    "for example in ratings.take(1):\n",
    "    print(example)\n"
   ]
  },
  {
   "cell_type": "code",
   "execution_count": null,
   "metadata": {},
   "outputs": [],
   "source": [
    "class UserModel(tf.keras.Model):\n",
    "    def __init__(self):\n",
    "        super().__init__()\n",
    "        self.user_embedding = tf.keras.Sequential([\n",
    "            tf.keras.layers.StringLookup(vocabulary=unique_user_ids.astype(str), mask_token=None),\n",
    "            tf.keras.layers.Embedding(len(unique_user_ids) + 1, embedding)\n",
    "        ])\n",
    "        \n",
    "    def call(self, inputs):\n",
    "        return self.user_embedding(inputs)\n",
    "\n",
    "class MovieModel(tf.keras.Model):\n",
    "    def __init__(self):\n",
    "        super().__init__()\n",
    "        self.movie_embedding = tf.keras.Sequential([\n",
    "            tf.keras.layers.StringLookup(vocabulary=unique_movie_titles.astype(str), mask_token=None),\n",
    "            tf.keras.layers.Embedding(len(unique_movie_titles) + 1, embedding)\n",
    "        ])\n",
    "        \n",
    "    def call(self, inputs):\n",
    "        return self.movie_embedding(inputs)\n",
    "    \n",
    "\n",
    "class RecommenderModel(tfrs.Model):\n",
    "    def __init__(self):\n",
    "        super().__init__()\n",
    "        self.user_model = UserModel()\n",
    "        self.movie_model = MovieModel()\n",
    "        self.task = tfrs.tasks.Retrieval(metrics=tfrs.metrics.FactorizedTopK(\n",
    "            candidates=movies.batch(128).map(self.movie_model)\n",
    "        ))\n",
    "        \n",
    "    def compute_loss(self, features, training=False):\n",
    "        print(features)\n",
    "        user_embeddings = self.user_model(features[\"userId\"])\n",
    "        movie_embeddings = self.movie_model(features[\"title\"])\n",
    "        return self.task(user_embeddings, movie_embeddings)\n",
    "    \n",
    "embedding = 64\n",
    "\n",
    "unique_user_ids = np.unique([x.numpy().decode(\"utf-8\") for x in ratings.map(lambda x: x[\"userId\"])])\n",
    "unique_movie_titles = np.unique([x.numpy().decode(\"utf-8\") for x in movies])\n",
    "\n",
    "\n",
    "model = RecommenderModel()\n",
    "model.compile(optimizer=tf.keras.optimizers.Adagrad(learning_rate=0.1))\n",
    "\n",
    "\n",
    "cached_train = ratings.shuffle(100_000).batch(8192).cache()\n",
    "model.fit(cached_train, epochs=5)"
   ]
  },
  {
   "cell_type": "code",
   "execution_count": null,
   "metadata": {},
   "outputs": [],
   "source": [
    "cached_test = ratings.batch(4096).cache()\n",
    "\n",
    "model.evaluate(cached_test, return_dict=True)"
   ]
  },
  {
   "cell_type": "code",
   "execution_count": null,
   "metadata": {},
   "outputs": [],
   "source": [
    "\n",
    "def recommend_movies(model, movie_list, movie_dataset, top_k=3):\n",
    "    movie_embeddings = model.movie_model(tf.constant(movie_list))\n",
    "    \n",
    "    all_movie_titles = [x.numpy().decode(\"utf-8\") for x in movie_dataset]\n",
    "    all_movie_embeddings = model.movie_model(tf.constant(all_movie_titles))\n",
    "    \n",
    "    scores = tf.linalg.matmul(movie_embeddings, all_movie_embeddings, transpose_b=True)\n",
    "    avg_scores = tf.reduce_mean(scores, axis=0) \n",
    "    \n",
    "    top_indices = tf.argsort(avg_scores, direction='DESCENDING').numpy()\n",
    "    recommended_movies = [all_movie_titles[i] for i in top_indices if all_movie_titles[i] not in movie_list][:top_k]\n",
    "    \n",
    "    return recommended_movies\n",
    "\n",
    "# liked_movies = [\"Toy Story (1995)\", \"Jumanji (1995)\"]\n",
    "# liked_movies = [\"Star Wars (1977)\", \"Jurassic Park (1993)\"]\n",
    "# liked_movies = [\"Zero Dark Thirty (2012)\", \"American Sniper (2014)\"]\n",
    "# liked_movies = [\"The Dark Knight (2008)\", \"The Shawshank Redemption (1994)\"]\n",
    "liked_movies = [\"Lord of the Rings: The Fellowship of the Ring, The (2001)\", \"Lord of the Rings: The Two Towers, The (2002)\"]\n",
    "\n",
    "recommendations = recommend_movies(model, liked_movies, movies, top_k=5)\n",
    "print(recommendations)"
   ]
  }
 ],
 "metadata": {
  "kernelspec": {
   "display_name": "env",
   "language": "python",
   "name": "python3"
  },
  "language_info": {
   "codemirror_mode": {
    "name": "ipython",
    "version": 3
   },
   "file_extension": ".py",
   "mimetype": "text/x-python",
   "name": "python",
   "nbconvert_exporter": "python",
   "pygments_lexer": "ipython3",
   "version": "3.11.0"
  }
 },
 "nbformat": 4,
 "nbformat_minor": 2
}
